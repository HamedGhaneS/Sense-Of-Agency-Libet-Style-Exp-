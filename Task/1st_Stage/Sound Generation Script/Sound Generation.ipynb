{
 "cells": [
  {
   "cell_type": "code",
   "execution_count": null,
   "id": "b633ac88",
   "metadata": {},
   "outputs": [],
   "source": [
    "pip install simpleaudio\n"
   ]
  },
  {
   "cell_type": "code",
   "execution_count": 3,
   "id": "ce17ed87",
   "metadata": {},
   "outputs": [],
   "source": [
    "\"\"\"\n",
    "Author: Hamed Ghane\n",
    "Date: 2024.12.04\n",
    "This script generates and plays a sound composed of 10 sinusoidal \n",
    "frequencies, each combined to create a complex waveform. The sound \n",
    "is normalized to prevent clipping and then saved as a .wav file.\n",
    "\n",
    "Overview:\n",
    "- Sample rate: 22050 Hz\n",
    "- Duration: 500 ms\n",
    "- Frequencies used: 500 Hz, 1000 Hz, 1500 Hz, 2000 Hz, \n",
    "  3000 Hz, 4000 Hz, 6000 Hz, 8000 Hz, 10000 Hz, 12000 Hz.\n",
    "\n",
    "Steps:\n",
    "1. Define the sample rate and time vector.\n",
    "2. Define the frequencies for the sinusoids.\n",
    "3. Generate the sound by summing the sinusoids.\n",
    "4. Normalize the sound to avoid distortion.\n",
    "5. Play the sound using `simpleaudio`.\n",
    "6. Save the sound to a file named 'sound.wav'.\n",
    "\"\"\"\n",
    "\n",
    "import numpy as np\n",
    "import simpleaudio as sa\n",
    "from scipy.io.wavfile import write\n",
    "\n",
    "# Sample rate in Hz (updated to a standard value)\n",
    "Fs = 22050\n",
    "# Time vector, for 500 ms sound\n",
    "t = np.linspace(0, 0.5, int(Fs * 0.5), endpoint=False)\n",
    "\n",
    "# Define your 10 frequencies (in Hz)\n",
    "frequencies = [500, 1000, 1500, 2000, 3000, 4000, 6000, 8000, 10000, 12000]\n",
    "\n",
    "# Create a sound that is a sum of 10 sinusoids with these frequencies\n",
    "sound = np.zeros_like(t)\n",
    "for freq in frequencies:\n",
    "    sound += np.sin(2 * np.pi * freq * t)\n",
    "\n",
    "# Normalize the sound to prevent clipping\n",
    "sound = sound / np.max(np.abs(sound))\n",
    "\n",
    "# Convert to 16-bit PCM format for saving\n",
    "sound_pcm = (sound * 32767).astype(np.int16)\n",
    "\n",
    "# Play the sound\n",
    "play_obj = sa.play_buffer(sound_pcm, 1, 2, Fs)\n",
    "play_obj.wait_done()\n",
    "\n",
    "# Save the sound to a .wav file\n",
    "write('sound.wav', Fs, sound_pcm)\n"
   ]
  }
 ],
 "metadata": {
  "kernelspec": {
   "display_name": "Python 3 (ipykernel)",
   "language": "python",
   "name": "python3"
  },
  "language_info": {
   "codemirror_mode": {
    "name": "ipython",
    "version": 3
   },
   "file_extension": ".py",
   "mimetype": "text/x-python",
   "name": "python",
   "nbconvert_exporter": "python",
   "pygments_lexer": "ipython3",
   "version": "3.9.7"
  }
 },
 "nbformat": 4,
 "nbformat_minor": 5
}
